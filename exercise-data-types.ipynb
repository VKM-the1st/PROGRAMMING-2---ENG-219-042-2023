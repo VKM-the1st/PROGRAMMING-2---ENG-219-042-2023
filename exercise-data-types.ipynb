{
 "cells": [
  {
   "cell_type": "markdown",
   "id": "8a803ae3",
   "metadata": {
    "papermill": {
     "duration": 0.006809,
     "end_time": "2025-02-25T19:33:44.251368",
     "exception": false,
     "start_time": "2025-02-25T19:33:44.244559",
     "status": "completed"
    },
    "tags": []
   },
   "source": [
    "**This notebook is an exercise in the [Intro to Programming](https://www.kaggle.com/learn/intro-to-programming) course.  You can reference the tutorial at [this link](https://www.kaggle.com/alexisbcook/data-types).**\n",
    "\n",
    "---\n"
   ]
  },
  {
   "cell_type": "markdown",
   "id": "7785d84b",
   "metadata": {
    "papermill": {
     "duration": 0.005786,
     "end_time": "2025-02-25T19:33:44.262690",
     "exception": false,
     "start_time": "2025-02-25T19:33:44.256904",
     "status": "completed"
    },
    "tags": []
   },
   "source": [
    "In the tutorial, you learned about four different data types: floats, integers, strings, and booleans.  In this exercise, you'll experiment with them.\n",
    "\n",
    "# Set up the notebook\n",
    "\n",
    "Run the next code cell without changes to set up the notebook."
   ]
  },
  {
   "cell_type": "code",
   "execution_count": 1,
   "id": "0a5118e9",
   "metadata": {
    "execution": {
     "iopub.execute_input": "2025-02-25T19:33:44.274527Z",
     "iopub.status.busy": "2025-02-25T19:33:44.274190Z",
     "iopub.status.idle": "2025-02-25T19:33:45.610211Z",
     "shell.execute_reply": "2025-02-25T19:33:45.609102Z"
    },
    "papermill": {
     "duration": 1.343841,
     "end_time": "2025-02-25T19:33:45.611849",
     "exception": false,
     "start_time": "2025-02-25T19:33:44.268008",
     "status": "completed"
    },
    "tags": []
   },
   "outputs": [
    {
     "name": "stdout",
     "output_type": "stream",
     "text": [
      "Setup complete.\n"
     ]
    }
   ],
   "source": [
    "# Set up the exercise\n",
    "from learntools.core import binder\n",
    "binder.bind(globals())\n",
    "from learntools.intro_to_programming.ex3 import *\n",
    "print('Setup complete.')"
   ]
  },
  {
   "cell_type": "markdown",
   "id": "cefdb8d6",
   "metadata": {
    "papermill": {
     "duration": 0.005014,
     "end_time": "2025-02-25T19:33:45.622392",
     "exception": false,
     "start_time": "2025-02-25T19:33:45.617378",
     "status": "completed"
    },
    "tags": []
   },
   "source": [
    "# Question 1\n",
    "\n",
    "You have seen how to convert a float to an integer with the `int` function.  Try this out yourself by running the code cell below."
   ]
  },
  {
   "cell_type": "code",
   "execution_count": 2,
   "id": "4389c587",
   "metadata": {
    "execution": {
     "iopub.execute_input": "2025-02-25T19:33:45.634354Z",
     "iopub.status.busy": "2025-02-25T19:33:45.633850Z",
     "iopub.status.idle": "2025-02-25T19:33:45.640191Z",
     "shell.execute_reply": "2025-02-25T19:33:45.638794Z"
    },
    "papermill": {
     "duration": 0.014418,
     "end_time": "2025-02-25T19:33:45.642039",
     "exception": false,
     "start_time": "2025-02-25T19:33:45.627621",
     "status": "completed"
    },
    "tags": []
   },
   "outputs": [
    {
     "name": "stdout",
     "output_type": "stream",
     "text": [
      "1.0\n",
      "<class 'float'>\n",
      "1\n",
      "<class 'int'>\n"
     ]
    }
   ],
   "source": [
    "# Define a float\n",
    "y = 1.\n",
    "print(y)\n",
    "print(type(y))\n",
    "\n",
    "# Convert float to integer with the int function\n",
    "z = int(y)\n",
    "print(z)\n",
    "print(type(z))"
   ]
  },
  {
   "cell_type": "markdown",
   "id": "cdbce9cf",
   "metadata": {
    "papermill": {
     "duration": 0.005133,
     "end_time": "2025-02-25T19:33:45.653053",
     "exception": false,
     "start_time": "2025-02-25T19:33:45.647920",
     "status": "completed"
    },
    "tags": []
   },
   "source": [
    "In this case, the float you are using has no numbers after the decimal.  \n",
    "- But what happens when you try to convert a float with a fractional part to an integer?  \n",
    "- How does the outcome of the `int` function change for positive and negative numbers?\n",
    "\n",
    "Use the next code cell to investigate and answer these questions.  Feel free to add or remove any lines of code -- it is your workspace!"
   ]
  },
  {
   "cell_type": "code",
   "execution_count": 3,
   "id": "dadadea9",
   "metadata": {
    "execution": {
     "iopub.execute_input": "2025-02-25T19:33:45.664964Z",
     "iopub.status.busy": "2025-02-25T19:33:45.664588Z",
     "iopub.status.idle": "2025-02-25T19:33:45.669257Z",
     "shell.execute_reply": "2025-02-25T19:33:45.668271Z"
    },
    "papermill": {
     "duration": 0.012364,
     "end_time": "2025-02-25T19:33:45.670774",
     "exception": false,
     "start_time": "2025-02-25T19:33:45.658410",
     "status": "completed"
    },
    "tags": []
   },
   "outputs": [
    {
     "name": "stdout",
     "output_type": "stream",
     "text": [
      "1\n",
      "1\n",
      "-3\n",
      "-2\n"
     ]
    }
   ],
   "source": [
    "# Uncomment and run this code to get started!\n",
    "print(int(1.2321))\n",
    "print(int(1.747))\n",
    "print(int(-3.94535))\n",
    "print(int(-2.19774))"
   ]
  },
  {
   "cell_type": "markdown",
   "id": "dfddebde",
   "metadata": {
    "papermill": {
     "duration": 0.005073,
     "end_time": "2025-02-25T19:33:45.681290",
     "exception": false,
     "start_time": "2025-02-25T19:33:45.676217",
     "status": "completed"
    },
    "tags": []
   },
   "source": [
    "Once you have an answer, run the code cell below to see the solution.  Viewing the solution will give you credit for answering the problem."
   ]
  },
  {
   "cell_type": "code",
   "execution_count": 4,
   "id": "58fb23af",
   "metadata": {
    "execution": {
     "iopub.execute_input": "2025-02-25T19:33:45.693425Z",
     "iopub.status.busy": "2025-02-25T19:33:45.693064Z",
     "iopub.status.idle": "2025-02-25T19:33:45.701926Z",
     "shell.execute_reply": "2025-02-25T19:33:45.700571Z"
    },
    "papermill": {
     "duration": 0.017054,
     "end_time": "2025-02-25T19:33:45.703648",
     "exception": false,
     "start_time": "2025-02-25T19:33:45.686594",
     "status": "completed"
    },
    "tags": []
   },
   "outputs": [
    {
     "data": {
      "application/javascript": [
       "parent.postMessage({\"jupyterEvent\": \"custom.exercise_interaction\", \"data\": {\"outcomeType\": 1, \"valueTowardsCompletion\": 0.2, \"interactionType\": 1, \"questionType\": 4, \"questionId\": \"1_FloatToInt\", \"learnToolsVersion\": \"0.3.4\", \"failureMessage\": \"\", \"exceptionClass\": \"\", \"trace\": \"\"}}, \"*\")"
      ],
      "text/plain": [
       "<IPython.core.display.Javascript object>"
      ]
     },
     "metadata": {},
     "output_type": "display_data"
    },
    {
     "data": {
      "text/markdown": [
       "<span style=\"color:#33cc33\">Correct:</span> \n",
       "\n",
       "Negative floats are always rounded UP to the closest integer (for instance, both -1.1 and -1.9 are rounded up to -1). Positive floats are always rounded DOWN to the closest integer (for instance, 2.1 and 2.9 are rounded down to 2)."
      ],
      "text/plain": [
       "Correct: \n",
       "\n",
       "Negative floats are always rounded UP to the closest integer (for instance, both -1.1 and -1.9 are rounded up to -1). Positive floats are always rounded DOWN to the closest integer (for instance, 2.1 and 2.9 are rounded down to 2)."
      ]
     },
     "metadata": {},
     "output_type": "display_data"
    }
   ],
   "source": [
    "# Check your answer (Run this code cell to receive credit!)\n",
    "q1.check()"
   ]
  },
  {
   "cell_type": "markdown",
   "id": "59050b76",
   "metadata": {
    "papermill": {
     "duration": 0.005229,
     "end_time": "2025-02-25T19:33:45.714654",
     "exception": false,
     "start_time": "2025-02-25T19:33:45.709425",
     "status": "completed"
    },
    "tags": []
   },
   "source": [
    "# Question 2\n",
    "\n",
    "In the tutorial, you learned about booleans (which can take a value of `True` or `False`), in addition to integers, floats, and strings.  For this question, your goal is to determine what happens when you multiply a boolean by any of these data types.  Specifically, \n",
    "- What happens when you multiply an integer or float by `True`?  What happens when you multiply them by `False`?  How does the answer change if the numbers are positive or negative?\n",
    "- What happens when you multiply a string by `True`?  By `False`?\n",
    "\n",
    "Use the next code cell for your investigation. "
   ]
  },
  {
   "cell_type": "code",
   "execution_count": 5,
   "id": "051528c6",
   "metadata": {
    "execution": {
     "iopub.execute_input": "2025-02-25T19:33:45.726982Z",
     "iopub.status.busy": "2025-02-25T19:33:45.726570Z",
     "iopub.status.idle": "2025-02-25T19:33:45.733210Z",
     "shell.execute_reply": "2025-02-25T19:33:45.732124Z"
    },
    "papermill": {
     "duration": 0.014693,
     "end_time": "2025-02-25T19:33:45.734858",
     "exception": false,
     "start_time": "2025-02-25T19:33:45.720165",
     "status": "completed"
    },
    "tags": []
   },
   "outputs": [
    {
     "name": "stdout",
     "output_type": "stream",
     "text": [
      "3\n",
      "-3.1\n",
      "<class 'str'>\n",
      "0\n"
     ]
    }
   ],
   "source": [
    "# Uncomment and run this code to get started!\n",
    "print(3 * True)\n",
    "print(-3.1 * True)\n",
    "print(type(\"abc\" * False))\n",
    "print(len(\"abc\" * False))"
   ]
  },
  {
   "cell_type": "markdown",
   "id": "97eb7270",
   "metadata": {
    "papermill": {
     "duration": 0.005503,
     "end_time": "2025-02-25T19:33:45.746195",
     "exception": false,
     "start_time": "2025-02-25T19:33:45.740692",
     "status": "completed"
    },
    "tags": []
   },
   "source": [
    "Once you have an answer, run the code cell below to see the solution.  Viewing the solution will give you credit for answering the problem."
   ]
  },
  {
   "cell_type": "code",
   "execution_count": 6,
   "id": "b24be2cc",
   "metadata": {
    "execution": {
     "iopub.execute_input": "2025-02-25T19:33:45.758880Z",
     "iopub.status.busy": "2025-02-25T19:33:45.758475Z",
     "iopub.status.idle": "2025-02-25T19:33:45.765445Z",
     "shell.execute_reply": "2025-02-25T19:33:45.764613Z"
    },
    "papermill": {
     "duration": 0.015148,
     "end_time": "2025-02-25T19:33:45.767082",
     "exception": false,
     "start_time": "2025-02-25T19:33:45.751934",
     "status": "completed"
    },
    "tags": []
   },
   "outputs": [
    {
     "data": {
      "application/javascript": [
       "parent.postMessage({\"jupyterEvent\": \"custom.exercise_interaction\", \"data\": {\"outcomeType\": 1, \"valueTowardsCompletion\": 0.2, \"interactionType\": 1, \"questionType\": 4, \"questionId\": \"2_MultiplyBooleans\", \"learnToolsVersion\": \"0.3.4\", \"failureMessage\": \"\", \"exceptionClass\": \"\", \"trace\": \"\"}}, \"*\")"
      ],
      "text/plain": [
       "<IPython.core.display.Javascript object>"
      ]
     },
     "metadata": {},
     "output_type": "display_data"
    },
    {
     "data": {
      "text/markdown": [
       "<span style=\"color:#33cc33\">Correct:</span> \n",
       "\n",
       "When you multiple an integer or float by a boolean with value `True`, it just returns that same integer or float (and is equivalent to multiplying by 1).  If you multiply an integer or float by a boolean with value `False`, it always returns 0.  This is true for both positive and negative numbers.  If you multiply a string by a boolean with value `True`, it just returns that same string.  And if you multiply a string by a boolean with value `False`, it returns an empty string (or a string with length zero)."
      ],
      "text/plain": [
       "Correct: \n",
       "\n",
       "When you multiple an integer or float by a boolean with value `True`, it just returns that same integer or float (and is equivalent to multiplying by 1).  If you multiply an integer or float by a boolean with value `False`, it always returns 0.  This is true for both positive and negative numbers.  If you multiply a string by a boolean with value `True`, it just returns that same string.  And if you multiply a string by a boolean with value `False`, it returns an empty string (or a string with length zero)."
      ]
     },
     "metadata": {},
     "output_type": "display_data"
    }
   ],
   "source": [
    "# Check your answer (Run this code cell to receive credit!)\n",
    "q2.check()"
   ]
  },
  {
   "cell_type": "markdown",
   "id": "e799557d",
   "metadata": {
    "papermill": {
     "duration": 0.005528,
     "end_time": "2025-02-25T19:33:45.778673",
     "exception": false,
     "start_time": "2025-02-25T19:33:45.773145",
     "status": "completed"
    },
    "tags": []
   },
   "source": [
    "# Question 3\n",
    "\n",
    "In this question, you will build off your work from the previous exercise to write a function that estimates the value of a house.\n",
    "\n",
    "Use the next code cell to create a function `get_expected_cost` that takes as input three variables:\n",
    "- `beds` - number of bedrooms (data type float)\n",
    "- `baths` - number of bathrooms (data type float)\n",
    "- `has_basement` - whether or not the house has a basement (data type boolean)\n",
    "\n",
    "It should return the expected cost of a house with those characteristics. Assume that:\n",
    "- the expected cost for a house with 0 bedrooms and 0 bathrooms, and no basement is 80000, \n",
    "- each bedroom adds 30000 to the expected cost,\n",
    "- each bathroom adds 10000 to the expected cost, and\n",
    "- a basement adds 40000 to the expected cost.\n",
    "\n",
    "For instance,\n",
    "- a house with 1 bedroom, 1 bathroom, and no basement has an expected cost of 80000 + 30000 + 10000 = 120000.  This value will be calculated with `get_expected_cost(1, 1, False)`.\n",
    "- a house with 2 bedrooms, 1 bathroom, and a basement has an expected cost of 80000 + 2*30000 + 10000 + 40000 = 190000.  This value will be calculated with `get_expected_cost(2, 1, True)`.\n",
    "\n",
    "Remember you can always get a hint by uncommenting `q3.hint()` in the code cell following the next!"
   ]
  },
  {
   "cell_type": "code",
   "execution_count": 7,
   "id": "104c732f",
   "metadata": {
    "execution": {
     "iopub.execute_input": "2025-02-25T19:33:45.791636Z",
     "iopub.status.busy": "2025-02-25T19:33:45.791303Z",
     "iopub.status.idle": "2025-02-25T19:33:45.799420Z",
     "shell.execute_reply": "2025-02-25T19:33:45.798563Z"
    },
    "papermill": {
     "duration": 0.016549,
     "end_time": "2025-02-25T19:33:45.801018",
     "exception": false,
     "start_time": "2025-02-25T19:33:45.784469",
     "status": "completed"
    },
    "tags": []
   },
   "outputs": [
    {
     "data": {
      "application/javascript": [
       "parent.postMessage({\"jupyterEvent\": \"custom.exercise_interaction\", \"data\": {\"outcomeType\": 1, \"valueTowardsCompletion\": 0.2, \"interactionType\": 1, \"questionType\": 2, \"questionId\": \"3_EstimateHouseValueBool\", \"learnToolsVersion\": \"0.3.4\", \"failureMessage\": \"\", \"exceptionClass\": \"\", \"trace\": \"\"}}, \"*\")"
      ],
      "text/plain": [
       "<IPython.core.display.Javascript object>"
      ]
     },
     "metadata": {},
     "output_type": "display_data"
    },
    {
     "data": {
      "text/markdown": [
       "<span style=\"color:#33cc33\">Correct</span>"
      ],
      "text/plain": [
       "Correct"
      ]
     },
     "metadata": {},
     "output_type": "display_data"
    }
   ],
   "source": [
    "# TODO: Complete the function\n",
    "def get_expected_cost(beds, baths, has_basement):\n",
    "    value =  80000 + 30000 * beds + 10000 * baths + 40000 * has_basement \n",
    "    return value\n",
    "\n",
    "# Check your answer \n",
    "q3.check()"
   ]
  },
  {
   "cell_type": "code",
   "execution_count": 8,
   "id": "0d2d071b",
   "metadata": {
    "execution": {
     "iopub.execute_input": "2025-02-25T19:33:45.814677Z",
     "iopub.status.busy": "2025-02-25T19:33:45.814348Z",
     "iopub.status.idle": "2025-02-25T19:33:45.818204Z",
     "shell.execute_reply": "2025-02-25T19:33:45.817117Z"
    },
    "papermill": {
     "duration": 0.012636,
     "end_time": "2025-02-25T19:33:45.819904",
     "exception": false,
     "start_time": "2025-02-25T19:33:45.807268",
     "status": "completed"
    },
    "tags": []
   },
   "outputs": [],
   "source": [
    "# Uncomment to see a hint\n",
    "#q3.hint()\n",
    "\n",
    "# Uncomment to view the solution\n",
    "#q3.solution()"
   ]
  },
  {
   "cell_type": "markdown",
   "id": "03abf891",
   "metadata": {
    "papermill": {
     "duration": 0.005884,
     "end_time": "2025-02-25T19:33:45.832121",
     "exception": false,
     "start_time": "2025-02-25T19:33:45.826237",
     "status": "completed"
    },
    "tags": []
   },
   "source": [
    "# Question 4\n",
    "\n",
    "We'll continue our study of boolean arithmetic.  For this question, your task is to provide a description of what happpens when you add booleans. \n",
    "\n",
    "Use the next code cell for your investigation.  Feel free to add or remove any lines of code - use it as your workspace!"
   ]
  },
  {
   "cell_type": "code",
   "execution_count": 9,
   "id": "496fba9b",
   "metadata": {
    "execution": {
     "iopub.execute_input": "2025-02-25T19:33:45.845857Z",
     "iopub.status.busy": "2025-02-25T19:33:45.845432Z",
     "iopub.status.idle": "2025-02-25T19:33:45.850679Z",
     "shell.execute_reply": "2025-02-25T19:33:45.849545Z"
    },
    "papermill": {
     "duration": 0.013978,
     "end_time": "2025-02-25T19:33:45.852321",
     "exception": false,
     "start_time": "2025-02-25T19:33:45.838343",
     "status": "completed"
    },
    "tags": []
   },
   "outputs": [
    {
     "name": "stdout",
     "output_type": "stream",
     "text": [
      "0\n",
      "1\n",
      "1\n",
      "2\n",
      "3\n"
     ]
    }
   ],
   "source": [
    "print(False + False)\n",
    "print(True + False)\n",
    "print(False + True)\n",
    "print(True + True)\n",
    "print(False + True + True + True)"
   ]
  },
  {
   "cell_type": "markdown",
   "id": "813ba3c6",
   "metadata": {
    "papermill": {
     "duration": 0.006002,
     "end_time": "2025-02-25T19:33:45.864675",
     "exception": false,
     "start_time": "2025-02-25T19:33:45.858673",
     "status": "completed"
    },
    "tags": []
   },
   "source": [
    "Once you have an answer, run the code cell below to see the solution.  Viewing the solution will give you credit for answering the problem."
   ]
  },
  {
   "cell_type": "code",
   "execution_count": 10,
   "id": "369a67e0",
   "metadata": {
    "execution": {
     "iopub.execute_input": "2025-02-25T19:33:45.879124Z",
     "iopub.status.busy": "2025-02-25T19:33:45.878746Z",
     "iopub.status.idle": "2025-02-25T19:33:45.886864Z",
     "shell.execute_reply": "2025-02-25T19:33:45.885820Z"
    },
    "papermill": {
     "duration": 0.017253,
     "end_time": "2025-02-25T19:33:45.888557",
     "exception": false,
     "start_time": "2025-02-25T19:33:45.871304",
     "status": "completed"
    },
    "tags": []
   },
   "outputs": [
    {
     "data": {
      "application/javascript": [
       "parent.postMessage({\"jupyterEvent\": \"custom.exercise_interaction\", \"data\": {\"outcomeType\": 1, \"valueTowardsCompletion\": 0.2, \"interactionType\": 1, \"questionType\": 4, \"questionId\": \"4_AddingBooleans\", \"learnToolsVersion\": \"0.3.4\", \"failureMessage\": \"\", \"exceptionClass\": \"\", \"trace\": \"\"}}, \"*\")"
      ],
      "text/plain": [
       "<IPython.core.display.Javascript object>"
      ]
     },
     "metadata": {},
     "output_type": "display_data"
    },
    {
     "data": {
      "text/markdown": [
       "<span style=\"color:#33cc33\">Correct:</span> \n",
       "\n",
       "When you add booleans, adding `False` is equivalent to adding 0, and adding `True` is equivalent to adding 1."
      ],
      "text/plain": [
       "Correct: \n",
       "\n",
       "When you add booleans, adding `False` is equivalent to adding 0, and adding `True` is equivalent to adding 1."
      ]
     },
     "metadata": {},
     "output_type": "display_data"
    }
   ],
   "source": [
    "# Check your answer (Run this code cell to receive credit!)\n",
    "q4.check()"
   ]
  },
  {
   "cell_type": "markdown",
   "id": "bb791aa9",
   "metadata": {
    "papermill": {
     "duration": 0.006269,
     "end_time": "2025-02-25T19:33:45.901427",
     "exception": false,
     "start_time": "2025-02-25T19:33:45.895158",
     "status": "completed"
    },
    "tags": []
   },
   "source": [
    "# 🌶️ Question 5\n",
    "\n",
    "You own an online shop where you sell rings with custom engravings.  You offer both gold plated and solid gold rings.\n",
    "- Gold plated rings have a base cost of \\\\$50, and you charge \\\\$7 per engraved unit.  \n",
    "- Solid gold rings have a base cost of \\\\$100, and you charge \\\\$10 per engraved unit.\n",
    "- Spaces and punctuation are counted as engraved units.\n",
    "\n",
    "Write a function `cost_of_project()` that takes two arguments:\n",
    "- `engraving` - a Python string with the text of the engraving\n",
    "- `solid_gold` - a Boolean that indicates whether the ring is solid gold\n",
    "\n",
    "It should return the cost of the project.  This question should be fairly challenging, and you may need a hint."
   ]
  },
  {
   "cell_type": "code",
   "execution_count": 11,
   "id": "36d88e41",
   "metadata": {
    "execution": {
     "iopub.execute_input": "2025-02-25T19:33:45.915775Z",
     "iopub.status.busy": "2025-02-25T19:33:45.915370Z",
     "iopub.status.idle": "2025-02-25T19:33:45.923922Z",
     "shell.execute_reply": "2025-02-25T19:33:45.922839Z"
    },
    "papermill": {
     "duration": 0.017643,
     "end_time": "2025-02-25T19:33:45.925569",
     "exception": false,
     "start_time": "2025-02-25T19:33:45.907926",
     "status": "completed"
    },
    "tags": []
   },
   "outputs": [
    {
     "data": {
      "application/javascript": [
       "parent.postMessage({\"jupyterEvent\": \"custom.exercise_interaction\", \"data\": {\"outcomeType\": 1, \"valueTowardsCompletion\": 0.2, \"interactionType\": 1, \"questionType\": 2, \"questionId\": \"5_CustomEngravings\", \"learnToolsVersion\": \"0.3.4\", \"failureMessage\": \"\", \"exceptionClass\": \"\", \"trace\": \"\"}}, \"*\")"
      ],
      "text/plain": [
       "<IPython.core.display.Javascript object>"
      ]
     },
     "metadata": {},
     "output_type": "display_data"
    },
    {
     "data": {
      "text/markdown": [
       "<span style=\"color:#33cc33\">Correct</span>"
      ],
      "text/plain": [
       "Correct"
      ]
     },
     "metadata": {},
     "output_type": "display_data"
    }
   ],
   "source": [
    "def cost_of_project(engraving, solid_gold):\n",
    "    cost = solid_gold * (100 + 10 * len(engraving)) + (not solid_gold) * (50 + 7 * len(engraving))\n",
    "    return cost\n",
    "\n",
    "# Check your answer\n",
    "q5.check()"
   ]
  },
  {
   "cell_type": "code",
   "execution_count": 12,
   "id": "941d9858",
   "metadata": {
    "execution": {
     "iopub.execute_input": "2025-02-25T19:33:45.940424Z",
     "iopub.status.busy": "2025-02-25T19:33:45.939991Z",
     "iopub.status.idle": "2025-02-25T19:33:45.943955Z",
     "shell.execute_reply": "2025-02-25T19:33:45.942921Z"
    },
    "papermill": {
     "duration": 0.013339,
     "end_time": "2025-02-25T19:33:45.945653",
     "exception": false,
     "start_time": "2025-02-25T19:33:45.932314",
     "status": "completed"
    },
    "tags": []
   },
   "outputs": [],
   "source": [
    "# Uncomment to see a hint\n",
    "#q5.hint()\n",
    "\n",
    "# Uncomment to view the solution\n",
    "#q5.solution()"
   ]
  },
  {
   "cell_type": "markdown",
   "id": "11e6bdae",
   "metadata": {
    "papermill": {
     "duration": 0.006225,
     "end_time": "2025-02-25T19:33:45.958678",
     "exception": false,
     "start_time": "2025-02-25T19:33:45.952453",
     "status": "completed"
    },
    "tags": []
   },
   "source": [
    "Run the next code cell to calculate the cost of engraving `Charlie+Denver` on a solid gold ring."
   ]
  },
  {
   "cell_type": "code",
   "execution_count": 13,
   "id": "d80012e3",
   "metadata": {
    "execution": {
     "iopub.execute_input": "2025-02-25T19:33:45.973026Z",
     "iopub.status.busy": "2025-02-25T19:33:45.972630Z",
     "iopub.status.idle": "2025-02-25T19:33:45.977588Z",
     "shell.execute_reply": "2025-02-25T19:33:45.976623Z"
    },
    "papermill": {
     "duration": 0.013765,
     "end_time": "2025-02-25T19:33:45.979114",
     "exception": false,
     "start_time": "2025-02-25T19:33:45.965349",
     "status": "completed"
    },
    "tags": []
   },
   "outputs": [
    {
     "name": "stdout",
     "output_type": "stream",
     "text": [
      "240\n"
     ]
    }
   ],
   "source": [
    "project_one = cost_of_project(\"Charlie+Denver\", True)\n",
    "print(project_one)"
   ]
  },
  {
   "cell_type": "markdown",
   "id": "3aa0fc92",
   "metadata": {
    "papermill": {
     "duration": 0.006169,
     "end_time": "2025-02-25T19:33:45.992128",
     "exception": false,
     "start_time": "2025-02-25T19:33:45.985959",
     "status": "completed"
    },
    "tags": []
   },
   "source": [
    "Use the next code cell to calculate the cost of engraving `08/10/2000` on a gold plated ring."
   ]
  },
  {
   "cell_type": "code",
   "execution_count": 14,
   "id": "0b4e3576",
   "metadata": {
    "execution": {
     "iopub.execute_input": "2025-02-25T19:33:46.006608Z",
     "iopub.status.busy": "2025-02-25T19:33:46.006248Z",
     "iopub.status.idle": "2025-02-25T19:33:46.011047Z",
     "shell.execute_reply": "2025-02-25T19:33:46.009950Z"
    },
    "papermill": {
     "duration": 0.013866,
     "end_time": "2025-02-25T19:33:46.012543",
     "exception": false,
     "start_time": "2025-02-25T19:33:45.998677",
     "status": "completed"
    },
    "tags": []
   },
   "outputs": [
    {
     "name": "stdout",
     "output_type": "stream",
     "text": [
      "120\n"
     ]
    }
   ],
   "source": [
    "project_two = cost_of_project(\"08/10/2000\", False)\n",
    "print(project_two)"
   ]
  },
  {
   "cell_type": "markdown",
   "id": "52459bf5",
   "metadata": {
    "papermill": {
     "duration": 0.006387,
     "end_time": "2025-02-25T19:33:46.025871",
     "exception": false,
     "start_time": "2025-02-25T19:33:46.019484",
     "status": "completed"
    },
    "tags": []
   },
   "source": [
    "# Keep going\n",
    "\n",
    "Continue to the next lesson to **[learn about conditions and conditional statements](https://www.kaggle.com/alexisbcook/conditions-and-conditional-statements)**."
   ]
  },
  {
   "cell_type": "markdown",
   "id": "fea791b4",
   "metadata": {
    "papermill": {
     "duration": 0.00639,
     "end_time": "2025-02-25T19:33:46.039208",
     "exception": false,
     "start_time": "2025-02-25T19:33:46.032818",
     "status": "completed"
    },
    "tags": []
   },
   "source": [
    "---\n",
    "\n",
    "\n",
    "\n",
    "\n",
    "*Have questions or comments? Visit the [course discussion forum](https://www.kaggle.com/learn/intro-to-programming/discussion) to chat with other learners.*"
   ]
  }
 ],
 "metadata": {
  "kaggle": {
   "accelerator": "none",
   "dataSources": [],
   "isGpuEnabled": false,
   "isInternetEnabled": false,
   "language": "python",
   "sourceType": "notebook"
  },
  "kernelspec": {
   "display_name": "Python 3",
   "language": "python",
   "name": "python3"
  },
  "language_info": {
   "codemirror_mode": {
    "name": "ipython",
    "version": 3
   },
   "file_extension": ".py",
   "mimetype": "text/x-python",
   "name": "python",
   "nbconvert_exporter": "python",
   "pygments_lexer": "ipython3",
   "version": "3.10.12"
  },
  "papermill": {
   "default_parameters": {},
   "duration": 5.310403,
   "end_time": "2025-02-25T19:33:46.666764",
   "environment_variables": {},
   "exception": null,
   "input_path": "__notebook__.ipynb",
   "output_path": "__notebook__.ipynb",
   "parameters": {},
   "start_time": "2025-02-25T19:33:41.356361",
   "version": "2.3.3"
  }
 },
 "nbformat": 4,
 "nbformat_minor": 5
}
