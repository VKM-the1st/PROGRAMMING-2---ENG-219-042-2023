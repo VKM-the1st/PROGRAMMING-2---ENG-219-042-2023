{
 "cells": [
  {
   "cell_type": "markdown",
   "id": "24a11390",
   "metadata": {
    "papermill": {
     "duration": 0.004455,
     "end_time": "2025-02-26T07:31:29.699730",
     "exception": false,
     "start_time": "2025-02-26T07:31:29.695275",
     "status": "completed"
    },
    "tags": []
   },
   "source": [
    "**This notebook is an exercise in the [Intro to Programming](https://www.kaggle.com/learn/intro-to-programming) course.  You can reference the tutorial at [this link](https://www.kaggle.com/alexisbcook/data-types).**\n",
    "\n",
    "---\n"
   ]
  },
  {
   "cell_type": "markdown",
   "id": "2ac054e1",
   "metadata": {
    "papermill": {
     "duration": 0.003302,
     "end_time": "2025-02-26T07:31:29.706743",
     "exception": false,
     "start_time": "2025-02-26T07:31:29.703441",
     "status": "completed"
    },
    "tags": []
   },
   "source": [
    "In the tutorial, you learned about four different data types: floats, integers, strings, and booleans.  In this exercise, you'll experiment with them.\n",
    "\n",
    "# Set up the notebook\n",
    "\n",
    "Run the next code cell without changes to set up the notebook."
   ]
  },
  {
   "cell_type": "code",
   "execution_count": 1,
   "id": "8a9c1260",
   "metadata": {
    "execution": {
     "iopub.execute_input": "2025-02-26T07:31:29.714902Z",
     "iopub.status.busy": "2025-02-26T07:31:29.714630Z",
     "iopub.status.idle": "2025-02-26T07:31:30.806197Z",
     "shell.execute_reply": "2025-02-26T07:31:30.805042Z"
    },
    "papermill": {
     "duration": 1.097456,
     "end_time": "2025-02-26T07:31:30.807619",
     "exception": false,
     "start_time": "2025-02-26T07:31:29.710163",
     "status": "completed"
    },
    "tags": []
   },
   "outputs": [
    {
     "name": "stdout",
     "output_type": "stream",
     "text": [
      "Setup complete.\n"
     ]
    }
   ],
   "source": [
    "# Set up the exercise\n",
    "from learntools.core import binder\n",
    "binder.bind(globals())\n",
    "from learntools.intro_to_programming.ex3 import *\n",
    "print('Setup complete.')"
   ]
  },
  {
   "cell_type": "markdown",
   "id": "3716429f",
   "metadata": {
    "papermill": {
     "duration": 0.003368,
     "end_time": "2025-02-26T07:31:30.815138",
     "exception": false,
     "start_time": "2025-02-26T07:31:30.811770",
     "status": "completed"
    },
    "tags": []
   },
   "source": [
    "# Question 1\n",
    "\n",
    "You have seen how to convert a float to an integer with the `int` function.  Try this out yourself by running the code cell below."
   ]
  },
  {
   "cell_type": "code",
   "execution_count": 2,
   "id": "ea1468c8",
   "metadata": {
    "execution": {
     "iopub.execute_input": "2025-02-26T07:31:30.824147Z",
     "iopub.status.busy": "2025-02-26T07:31:30.823721Z",
     "iopub.status.idle": "2025-02-26T07:31:30.828705Z",
     "shell.execute_reply": "2025-02-26T07:31:30.827389Z"
    },
    "papermill": {
     "duration": 0.01175,
     "end_time": "2025-02-26T07:31:30.830340",
     "exception": false,
     "start_time": "2025-02-26T07:31:30.818590",
     "status": "completed"
    },
    "tags": []
   },
   "outputs": [
    {
     "name": "stdout",
     "output_type": "stream",
     "text": [
      "1.0\n",
      "<class 'float'>\n",
      "1\n",
      "<class 'int'>\n"
     ]
    }
   ],
   "source": [
    "# Define a float\n",
    "y = 1.\n",
    "print(y)\n",
    "print(type(y))\n",
    "\n",
    "# Convert float to integer with the int function\n",
    "z = int(y)\n",
    "print(z)\n",
    "print(type(z))"
   ]
  },
  {
   "cell_type": "markdown",
   "id": "5c6422ef",
   "metadata": {
    "papermill": {
     "duration": 0.003435,
     "end_time": "2025-02-26T07:31:30.838097",
     "exception": false,
     "start_time": "2025-02-26T07:31:30.834662",
     "status": "completed"
    },
    "tags": []
   },
   "source": [
    "In this case, the float you are using has no numbers after the decimal.  \n",
    "- But what happens when you try to convert a float with a fractional part to an integer?  \n",
    "- How does the outcome of the `int` function change for positive and negative numbers?\n",
    "\n",
    "Use the next code cell to investigate and answer these questions.  Feel free to add or remove any lines of code -- it is your workspace!"
   ]
  },
  {
   "cell_type": "code",
   "execution_count": 3,
   "id": "bfe9de8b",
   "metadata": {
    "execution": {
     "iopub.execute_input": "2025-02-26T07:31:30.846785Z",
     "iopub.status.busy": "2025-02-26T07:31:30.846517Z",
     "iopub.status.idle": "2025-02-26T07:31:30.851494Z",
     "shell.execute_reply": "2025-02-26T07:31:30.850580Z"
    },
    "papermill": {
     "duration": 0.011011,
     "end_time": "2025-02-26T07:31:30.853060",
     "exception": false,
     "start_time": "2025-02-26T07:31:30.842049",
     "status": "completed"
    },
    "tags": []
   },
   "outputs": [
    {
     "name": "stdout",
     "output_type": "stream",
     "text": [
      "1\n",
      "1\n",
      "-3\n",
      "-2\n"
     ]
    }
   ],
   "source": [
    "# Uncomment and run this code to get started!\n",
    "print(int(1.2321))\n",
    "print(int(1.747))\n",
    "print(int(-3.94535))\n",
    "print(int(-2.19774))"
   ]
  },
  {
   "cell_type": "markdown",
   "id": "86a2b402",
   "metadata": {
    "papermill": {
     "duration": 0.003478,
     "end_time": "2025-02-26T07:31:30.860543",
     "exception": false,
     "start_time": "2025-02-26T07:31:30.857065",
     "status": "completed"
    },
    "tags": []
   },
   "source": [
    "Once you have an answer, run the code cell below to see the solution.  Viewing the solution will give you credit for answering the problem."
   ]
  },
  {
   "cell_type": "code",
   "execution_count": 4,
   "id": "15804bab",
   "metadata": {
    "execution": {
     "iopub.execute_input": "2025-02-26T07:31:30.868673Z",
     "iopub.status.busy": "2025-02-26T07:31:30.868363Z",
     "iopub.status.idle": "2025-02-26T07:31:30.874999Z",
     "shell.execute_reply": "2025-02-26T07:31:30.874241Z"
    },
    "papermill": {
     "duration": 0.012053,
     "end_time": "2025-02-26T07:31:30.876133",
     "exception": false,
     "start_time": "2025-02-26T07:31:30.864080",
     "status": "completed"
    },
    "tags": []
   },
   "outputs": [
    {
     "data": {
      "application/javascript": [
       "parent.postMessage({\"jupyterEvent\": \"custom.exercise_interaction\", \"data\": {\"outcomeType\": 1, \"valueTowardsCompletion\": 0.2, \"interactionType\": 1, \"questionType\": 4, \"questionId\": \"1_FloatToInt\", \"learnToolsVersion\": \"0.3.4\", \"failureMessage\": \"\", \"exceptionClass\": \"\", \"trace\": \"\"}}, \"*\")"
      ],
      "text/plain": [
       "<IPython.core.display.Javascript object>"
      ]
     },
     "metadata": {},
     "output_type": "display_data"
    },
    {
     "data": {
      "text/markdown": [
       "<span style=\"color:#33cc33\">Correct:</span> \n",
       "\n",
       "Negative floats are always rounded UP to the closest integer (for instance, both -1.1 and -1.9 are rounded up to -1). Positive floats are always rounded DOWN to the closest integer (for instance, 2.1 and 2.9 are rounded down to 2)."
      ],
      "text/plain": [
       "Correct: \n",
       "\n",
       "Negative floats are always rounded UP to the closest integer (for instance, both -1.1 and -1.9 are rounded up to -1). Positive floats are always rounded DOWN to the closest integer (for instance, 2.1 and 2.9 are rounded down to 2)."
      ]
     },
     "metadata": {},
     "output_type": "display_data"
    }
   ],
   "source": [
    "# Check your answer (Run this code cell to receive credit!)\n",
    "q1.check()"
   ]
  },
  {
   "cell_type": "markdown",
   "id": "ae59433a",
   "metadata": {
    "papermill": {
     "duration": 0.003536,
     "end_time": "2025-02-26T07:31:30.883917",
     "exception": false,
     "start_time": "2025-02-26T07:31:30.880381",
     "status": "completed"
    },
    "tags": []
   },
   "source": [
    "# Question 2\n",
    "\n",
    "In the tutorial, you learned about booleans (which can take a value of `True` or `False`), in addition to integers, floats, and strings.  For this question, your goal is to determine what happens when you multiply a boolean by any of these data types.  Specifically, \n",
    "- What happens when you multiply an integer or float by `True`?  What happens when you multiply them by `False`?  How does the answer change if the numbers are positive or negative?\n",
    "- What happens when you multiply a string by `True`?  By `False`?\n",
    "\n",
    "Use the next code cell for your investigation. "
   ]
  },
  {
   "cell_type": "code",
   "execution_count": 5,
   "id": "e13bb65a",
   "metadata": {
    "execution": {
     "iopub.execute_input": "2025-02-26T07:31:30.892556Z",
     "iopub.status.busy": "2025-02-26T07:31:30.892226Z",
     "iopub.status.idle": "2025-02-26T07:31:30.896506Z",
     "shell.execute_reply": "2025-02-26T07:31:30.895665Z"
    },
    "papermill": {
     "duration": 0.010014,
     "end_time": "2025-02-26T07:31:30.897626",
     "exception": false,
     "start_time": "2025-02-26T07:31:30.887612",
     "status": "completed"
    },
    "tags": []
   },
   "outputs": [
    {
     "name": "stdout",
     "output_type": "stream",
     "text": [
      "3\n",
      "-3.1\n",
      "<class 'str'>\n",
      "0\n"
     ]
    }
   ],
   "source": [
    "# Uncomment and run this code to get started!\n",
    "print(3 * True)\n",
    "print(-3.1 * True)\n",
    "print(type(\"abc\" * False))\n",
    "print(len(\"abc\" * False))"
   ]
  },
  {
   "cell_type": "markdown",
   "id": "3928107a",
   "metadata": {
    "papermill": {
     "duration": 0.003549,
     "end_time": "2025-02-26T07:31:30.905097",
     "exception": false,
     "start_time": "2025-02-26T07:31:30.901548",
     "status": "completed"
    },
    "tags": []
   },
   "source": [
    "Once you have an answer, run the code cell below to see the solution.  Viewing the solution will give you credit for answering the problem."
   ]
  },
  {
   "cell_type": "code",
   "execution_count": 6,
   "id": "48410ed9",
   "metadata": {
    "execution": {
     "iopub.execute_input": "2025-02-26T07:31:30.913297Z",
     "iopub.status.busy": "2025-02-26T07:31:30.912982Z",
     "iopub.status.idle": "2025-02-26T07:31:30.919672Z",
     "shell.execute_reply": "2025-02-26T07:31:30.918826Z"
    },
    "papermill": {
     "duration": 0.012372,
     "end_time": "2025-02-26T07:31:30.921069",
     "exception": false,
     "start_time": "2025-02-26T07:31:30.908697",
     "status": "completed"
    },
    "tags": []
   },
   "outputs": [
    {
     "data": {
      "application/javascript": [
       "parent.postMessage({\"jupyterEvent\": \"custom.exercise_interaction\", \"data\": {\"outcomeType\": 1, \"valueTowardsCompletion\": 0.2, \"interactionType\": 1, \"questionType\": 4, \"questionId\": \"2_MultiplyBooleans\", \"learnToolsVersion\": \"0.3.4\", \"failureMessage\": \"\", \"exceptionClass\": \"\", \"trace\": \"\"}}, \"*\")"
      ],
      "text/plain": [
       "<IPython.core.display.Javascript object>"
      ]
     },
     "metadata": {},
     "output_type": "display_data"
    },
    {
     "data": {
      "text/markdown": [
       "<span style=\"color:#33cc33\">Correct:</span> \n",
       "\n",
       "When you multiple an integer or float by a boolean with value `True`, it just returns that same integer or float (and is equivalent to multiplying by 1).  If you multiply an integer or float by a boolean with value `False`, it always returns 0.  This is true for both positive and negative numbers.  If you multiply a string by a boolean with value `True`, it just returns that same string.  And if you multiply a string by a boolean with value `False`, it returns an empty string (or a string with length zero)."
      ],
      "text/plain": [
       "Correct: \n",
       "\n",
       "When you multiple an integer or float by a boolean with value `True`, it just returns that same integer or float (and is equivalent to multiplying by 1).  If you multiply an integer or float by a boolean with value `False`, it always returns 0.  This is true for both positive and negative numbers.  If you multiply a string by a boolean with value `True`, it just returns that same string.  And if you multiply a string by a boolean with value `False`, it returns an empty string (or a string with length zero)."
      ]
     },
     "metadata": {},
     "output_type": "display_data"
    }
   ],
   "source": [
    "# Check your answer (Run this code cell to receive credit!)\n",
    "q2.check()"
   ]
  },
  {
   "cell_type": "markdown",
   "id": "8a20a743",
   "metadata": {
    "papermill": {
     "duration": 0.003958,
     "end_time": "2025-02-26T07:31:30.929826",
     "exception": false,
     "start_time": "2025-02-26T07:31:30.925868",
     "status": "completed"
    },
    "tags": []
   },
   "source": [
    "# Question 3\n",
    "\n",
    "In this question, you will build off your work from the previous exercise to write a function that estimates the value of a house.\n",
    "\n",
    "Use the next code cell to create a function `get_expected_cost` that takes as input three variables:\n",
    "- `beds` - number of bedrooms (data type float)\n",
    "- `baths` - number of bathrooms (data type float)\n",
    "- `has_basement` - whether or not the house has a basement (data type boolean)\n",
    "\n",
    "It should return the expected cost of a house with those characteristics. Assume that:\n",
    "- the expected cost for a house with 0 bedrooms and 0 bathrooms, and no basement is 80000, \n",
    "- each bedroom adds 30000 to the expected cost,\n",
    "- each bathroom adds 10000 to the expected cost, and\n",
    "- a basement adds 40000 to the expected cost.\n",
    "\n",
    "For instance,\n",
    "- a house with 1 bedroom, 1 bathroom, and no basement has an expected cost of 80000 + 30000 + 10000 = 120000.  This value will be calculated with `get_expected_cost(1, 1, False)`.\n",
    "- a house with 2 bedrooms, 1 bathroom, and a basement has an expected cost of 80000 + 2*30000 + 10000 + 40000 = 190000.  This value will be calculated with `get_expected_cost(2, 1, True)`.\n",
    "\n",
    "Remember you can always get a hint by uncommenting `q3.hint()` in the code cell following the next!"
   ]
  },
  {
   "cell_type": "code",
   "execution_count": 7,
   "id": "b87906e8",
   "metadata": {
    "execution": {
     "iopub.execute_input": "2025-02-26T07:31:30.940084Z",
     "iopub.status.busy": "2025-02-26T07:31:30.939728Z",
     "iopub.status.idle": "2025-02-26T07:31:30.945611Z",
     "shell.execute_reply": "2025-02-26T07:31:30.944926Z"
    },
    "papermill": {
     "duration": 0.012444,
     "end_time": "2025-02-26T07:31:30.947216",
     "exception": false,
     "start_time": "2025-02-26T07:31:30.934772",
     "status": "completed"
    },
    "tags": []
   },
   "outputs": [
    {
     "data": {
      "application/javascript": [
       "parent.postMessage({\"jupyterEvent\": \"custom.exercise_interaction\", \"data\": {\"outcomeType\": 1, \"valueTowardsCompletion\": 0.2, \"interactionType\": 1, \"questionType\": 2, \"questionId\": \"3_EstimateHouseValueBool\", \"learnToolsVersion\": \"0.3.4\", \"failureMessage\": \"\", \"exceptionClass\": \"\", \"trace\": \"\"}}, \"*\")"
      ],
      "text/plain": [
       "<IPython.core.display.Javascript object>"
      ]
     },
     "metadata": {},
     "output_type": "display_data"
    },
    {
     "data": {
      "text/markdown": [
       "<span style=\"color:#33cc33\">Correct</span>"
      ],
      "text/plain": [
       "Correct"
      ]
     },
     "metadata": {},
     "output_type": "display_data"
    }
   ],
   "source": [
    "# TODO: Complete the function\n",
    "def get_expected_cost(beds, baths, has_basement):\n",
    "    value =  80000 + 30000 * beds + 10000 * baths + 40000 * has_basement \n",
    "    return value\n",
    "\n",
    "# Check your answer \n",
    "q3.check()"
   ]
  },
  {
   "cell_type": "code",
   "execution_count": 8,
   "id": "4ba9e421",
   "metadata": {
    "execution": {
     "iopub.execute_input": "2025-02-26T07:31:30.957902Z",
     "iopub.status.busy": "2025-02-26T07:31:30.957662Z",
     "iopub.status.idle": "2025-02-26T07:31:30.961472Z",
     "shell.execute_reply": "2025-02-26T07:31:30.960289Z"
    },
    "papermill": {
     "duration": 0.010501,
     "end_time": "2025-02-26T07:31:30.962667",
     "exception": false,
     "start_time": "2025-02-26T07:31:30.952166",
     "status": "completed"
    },
    "tags": []
   },
   "outputs": [],
   "source": [
    "# Uncomment to see a hint\n",
    "#q3.hint()\n",
    "\n",
    "# Uncomment to view the solution\n",
    "#q3.solution()"
   ]
  },
  {
   "cell_type": "markdown",
   "id": "45329ac8",
   "metadata": {
    "papermill": {
     "duration": 0.003852,
     "end_time": "2025-02-26T07:31:30.971002",
     "exception": false,
     "start_time": "2025-02-26T07:31:30.967150",
     "status": "completed"
    },
    "tags": []
   },
   "source": [
    "# Question 4\n",
    "\n",
    "We'll continue our study of boolean arithmetic.  For this question, your task is to provide a description of what happpens when you add booleans. \n",
    "\n",
    "Use the next code cell for your investigation.  Feel free to add or remove any lines of code - use it as your workspace!"
   ]
  },
  {
   "cell_type": "code",
   "execution_count": 9,
   "id": "f57f0254",
   "metadata": {
    "execution": {
     "iopub.execute_input": "2025-02-26T07:31:30.980302Z",
     "iopub.status.busy": "2025-02-26T07:31:30.979994Z",
     "iopub.status.idle": "2025-02-26T07:31:30.984688Z",
     "shell.execute_reply": "2025-02-26T07:31:30.984003Z"
    },
    "papermill": {
     "duration": 0.010662,
     "end_time": "2025-02-26T07:31:30.985800",
     "exception": false,
     "start_time": "2025-02-26T07:31:30.975138",
     "status": "completed"
    },
    "tags": []
   },
   "outputs": [
    {
     "name": "stdout",
     "output_type": "stream",
     "text": [
      "0\n",
      "1\n",
      "1\n",
      "2\n",
      "3\n"
     ]
    }
   ],
   "source": [
    "print(False + False)\n",
    "print(True + False)\n",
    "print(False + True)\n",
    "print(True + True)\n",
    "print(False + True + True + True)"
   ]
  },
  {
   "cell_type": "markdown",
   "id": "b5aa5750",
   "metadata": {
    "papermill": {
     "duration": 0.003806,
     "end_time": "2025-02-26T07:31:30.993896",
     "exception": false,
     "start_time": "2025-02-26T07:31:30.990090",
     "status": "completed"
    },
    "tags": []
   },
   "source": [
    "Once you have an answer, run the code cell below to see the solution.  Viewing the solution will give you credit for answering the problem."
   ]
  },
  {
   "cell_type": "code",
   "execution_count": 10,
   "id": "5dab975f",
   "metadata": {
    "execution": {
     "iopub.execute_input": "2025-02-26T07:31:31.003285Z",
     "iopub.status.busy": "2025-02-26T07:31:31.002995Z",
     "iopub.status.idle": "2025-02-26T07:31:31.009572Z",
     "shell.execute_reply": "2025-02-26T07:31:31.008847Z"
    },
    "papermill": {
     "duration": 0.012727,
     "end_time": "2025-02-26T07:31:31.010760",
     "exception": false,
     "start_time": "2025-02-26T07:31:30.998033",
     "status": "completed"
    },
    "tags": []
   },
   "outputs": [
    {
     "data": {
      "application/javascript": [
       "parent.postMessage({\"jupyterEvent\": \"custom.exercise_interaction\", \"data\": {\"outcomeType\": 1, \"valueTowardsCompletion\": 0.2, \"interactionType\": 1, \"questionType\": 4, \"questionId\": \"4_AddingBooleans\", \"learnToolsVersion\": \"0.3.4\", \"failureMessage\": \"\", \"exceptionClass\": \"\", \"trace\": \"\"}}, \"*\")"
      ],
      "text/plain": [
       "<IPython.core.display.Javascript object>"
      ]
     },
     "metadata": {},
     "output_type": "display_data"
    },
    {
     "data": {
      "text/markdown": [
       "<span style=\"color:#33cc33\">Correct:</span> \n",
       "\n",
       "When you add booleans, adding `False` is equivalent to adding 0, and adding `True` is equivalent to adding 1."
      ],
      "text/plain": [
       "Correct: \n",
       "\n",
       "When you add booleans, adding `False` is equivalent to adding 0, and adding `True` is equivalent to adding 1."
      ]
     },
     "metadata": {},
     "output_type": "display_data"
    }
   ],
   "source": [
    "# Check your answer (Run this code cell to receive credit!)\n",
    "q4.check()"
   ]
  },
  {
   "cell_type": "markdown",
   "id": "453cba65",
   "metadata": {
    "papermill": {
     "duration": 0.004295,
     "end_time": "2025-02-26T07:31:31.019602",
     "exception": false,
     "start_time": "2025-02-26T07:31:31.015307",
     "status": "completed"
    },
    "tags": []
   },
   "source": [
    "# 🌶️ Question 5\n",
    "\n",
    "You own an online shop where you sell rings with custom engravings.  You offer both gold plated and solid gold rings.\n",
    "- Gold plated rings have a base cost of \\\\$50, and you charge \\\\$7 per engraved unit.  \n",
    "- Solid gold rings have a base cost of \\\\$100, and you charge \\\\$10 per engraved unit.\n",
    "- Spaces and punctuation are counted as engraved units.\n",
    "\n",
    "Write a function `cost_of_project()` that takes two arguments:\n",
    "- `engraving` - a Python string with the text of the engraving\n",
    "- `solid_gold` - a Boolean that indicates whether the ring is solid gold\n",
    "\n",
    "It should return the cost of the project.  This question should be fairly challenging, and you may need a hint."
   ]
  },
  {
   "cell_type": "code",
   "execution_count": 11,
   "id": "e13fb0d6",
   "metadata": {
    "execution": {
     "iopub.execute_input": "2025-02-26T07:31:31.028974Z",
     "iopub.status.busy": "2025-02-26T07:31:31.028671Z",
     "iopub.status.idle": "2025-02-26T07:31:31.035077Z",
     "shell.execute_reply": "2025-02-26T07:31:31.033958Z"
    },
    "papermill": {
     "duration": 0.012401,
     "end_time": "2025-02-26T07:31:31.036175",
     "exception": false,
     "start_time": "2025-02-26T07:31:31.023774",
     "status": "completed"
    },
    "tags": []
   },
   "outputs": [
    {
     "data": {
      "application/javascript": [
       "parent.postMessage({\"jupyterEvent\": \"custom.exercise_interaction\", \"data\": {\"outcomeType\": 1, \"valueTowardsCompletion\": 0.2, \"interactionType\": 1, \"questionType\": 2, \"questionId\": \"5_CustomEngravings\", \"learnToolsVersion\": \"0.3.4\", \"failureMessage\": \"\", \"exceptionClass\": \"\", \"trace\": \"\"}}, \"*\")"
      ],
      "text/plain": [
       "<IPython.core.display.Javascript object>"
      ]
     },
     "metadata": {},
     "output_type": "display_data"
    },
    {
     "data": {
      "text/markdown": [
       "<span style=\"color:#33cc33\">Correct</span>"
      ],
      "text/plain": [
       "Correct"
      ]
     },
     "metadata": {},
     "output_type": "display_data"
    }
   ],
   "source": [
    "def cost_of_project(engraving, solid_gold):\n",
    "    cost = solid_gold * (100 + 10 * len(engraving)) + (not solid_gold) * (50 + 7 * len(engraving))\n",
    "    return cost\n",
    "\n",
    "# Check your answer\n",
    "q5.check()"
   ]
  },
  {
   "cell_type": "code",
   "execution_count": 12,
   "id": "0c0abca5",
   "metadata": {
    "execution": {
     "iopub.execute_input": "2025-02-26T07:31:31.046173Z",
     "iopub.status.busy": "2025-02-26T07:31:31.045827Z",
     "iopub.status.idle": "2025-02-26T07:31:31.048863Z",
     "shell.execute_reply": "2025-02-26T07:31:31.048184Z"
    },
    "papermill": {
     "duration": 0.009121,
     "end_time": "2025-02-26T07:31:31.049884",
     "exception": false,
     "start_time": "2025-02-26T07:31:31.040763",
     "status": "completed"
    },
    "tags": []
   },
   "outputs": [],
   "source": [
    "# Uncomment to see a hint\n",
    "#q5.hint()\n",
    "\n",
    "# Uncomment to view the solution\n",
    "#q5.solution()"
   ]
  },
  {
   "cell_type": "markdown",
   "id": "cfd50211",
   "metadata": {
    "papermill": {
     "duration": 0.004149,
     "end_time": "2025-02-26T07:31:31.058405",
     "exception": false,
     "start_time": "2025-02-26T07:31:31.054256",
     "status": "completed"
    },
    "tags": []
   },
   "source": [
    "Run the next code cell to calculate the cost of engraving `Charlie+Denver` on a solid gold ring."
   ]
  },
  {
   "cell_type": "code",
   "execution_count": 13,
   "id": "d19f347b",
   "metadata": {
    "execution": {
     "iopub.execute_input": "2025-02-26T07:31:31.067871Z",
     "iopub.status.busy": "2025-02-26T07:31:31.067593Z",
     "iopub.status.idle": "2025-02-26T07:31:31.071574Z",
     "shell.execute_reply": "2025-02-26T07:31:31.070674Z"
    },
    "papermill": {
     "duration": 0.010071,
     "end_time": "2025-02-26T07:31:31.072722",
     "exception": false,
     "start_time": "2025-02-26T07:31:31.062651",
     "status": "completed"
    },
    "tags": []
   },
   "outputs": [
    {
     "name": "stdout",
     "output_type": "stream",
     "text": [
      "240\n"
     ]
    }
   ],
   "source": [
    "project_one = cost_of_project(\"Charlie+Denver\", True)\n",
    "print(project_one)"
   ]
  },
  {
   "cell_type": "markdown",
   "id": "f14324f4",
   "metadata": {
    "papermill": {
     "duration": 0.004263,
     "end_time": "2025-02-26T07:31:31.081882",
     "exception": false,
     "start_time": "2025-02-26T07:31:31.077619",
     "status": "completed"
    },
    "tags": []
   },
   "source": [
    "Use the next code cell to calculate the cost of engraving `08/10/2000` on a gold plated ring."
   ]
  },
  {
   "cell_type": "code",
   "execution_count": 14,
   "id": "c8c73268",
   "metadata": {
    "execution": {
     "iopub.execute_input": "2025-02-26T07:31:31.091828Z",
     "iopub.status.busy": "2025-02-26T07:31:31.091485Z",
     "iopub.status.idle": "2025-02-26T07:31:31.096079Z",
     "shell.execute_reply": "2025-02-26T07:31:31.094566Z"
    },
    "papermill": {
     "duration": 0.011429,
     "end_time": "2025-02-26T07:31:31.097639",
     "exception": false,
     "start_time": "2025-02-26T07:31:31.086210",
     "status": "completed"
    },
    "tags": []
   },
   "outputs": [
    {
     "name": "stdout",
     "output_type": "stream",
     "text": [
      "120\n"
     ]
    }
   ],
   "source": [
    "project_two = cost_of_project(\"08/10/2000\", False)\n",
    "print(project_two)"
   ]
  },
  {
   "cell_type": "markdown",
   "id": "25a521b8",
   "metadata": {
    "papermill": {
     "duration": 0.004456,
     "end_time": "2025-02-26T07:31:31.107588",
     "exception": false,
     "start_time": "2025-02-26T07:31:31.103132",
     "status": "completed"
    },
    "tags": []
   },
   "source": [
    "# Keep going\n",
    "\n",
    "Continue to the next lesson to **[learn about conditions and conditional statements](https://www.kaggle.com/alexisbcook/conditions-and-conditional-statements)**."
   ]
  },
  {
   "cell_type": "markdown",
   "id": "47cae2f1",
   "metadata": {
    "papermill": {
     "duration": 0.004304,
     "end_time": "2025-02-26T07:31:31.116527",
     "exception": false,
     "start_time": "2025-02-26T07:31:31.112223",
     "status": "completed"
    },
    "tags": []
   },
   "source": [
    "---\n",
    "\n",
    "\n",
    "\n",
    "\n",
    "*Have questions or comments? Visit the [course discussion forum](https://www.kaggle.com/learn/intro-to-programming/discussion) to chat with other learners.*"
   ]
  }
 ],
 "metadata": {
  "kaggle": {
   "accelerator": "none",
   "dataSources": [],
   "isGpuEnabled": false,
   "isInternetEnabled": false,
   "language": "python",
   "sourceType": "notebook"
  },
  "kernelspec": {
   "display_name": "Python 3",
   "language": "python",
   "name": "python3"
  },
  "language_info": {
   "codemirror_mode": {
    "name": "ipython",
    "version": 3
   },
   "file_extension": ".py",
   "mimetype": "text/x-python",
   "name": "python",
   "nbconvert_exporter": "python",
   "pygments_lexer": "ipython3",
   "version": "3.10.12"
  },
  "papermill": {
   "default_parameters": {},
   "duration": 4.277925,
   "end_time": "2025-02-26T07:31:31.640150",
   "environment_variables": {},
   "exception": null,
   "input_path": "__notebook__.ipynb",
   "output_path": "__notebook__.ipynb",
   "parameters": {},
   "start_time": "2025-02-26T07:31:27.362225",
   "version": "2.3.3"
  }
 },
 "nbformat": 4,
 "nbformat_minor": 5
}
